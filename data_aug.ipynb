{
 "cells": [
  {
   "cell_type": "code",
   "execution_count": 3,
   "metadata": {},
   "outputs": [],
   "source": [
    "import os\n",
    "import shutil\n",
    "import random\n",
    "from pathlib import Path\n",
    "\n",
    "# Define the paths\n",
    "data_folder = Path(\"AugmentedData\")\n",
    "train_folder = Path(\"train\")\n",
    "val_folder = Path(\"val\")\n",
    "test_folder = Path(\"test\")\n",
    "\n",
    "# Create train, val, and test directories if they don't exist\n",
    "train_folder.mkdir(exist_ok=True)\n",
    "val_folder.mkdir(exist_ok=True)\n",
    "test_folder.mkdir(exist_ok=True)\n",
    "\n",
    "# Get the list of class directories\n",
    "class_dirs = [class_dir for class_dir in data_folder.iterdir() if class_dir.is_dir()]\n",
    "\n",
    "for class_dir in class_dirs:\n",
    "    # Create class directories within train, val, and test directories\n",
    "    train_class_dir = train_folder / class_dir.name\n",
    "    val_class_dir = val_folder / class_dir.name\n",
    "    test_class_dir = test_folder / class_dir.name\n",
    "    train_class_dir.mkdir(exist_ok=True)\n",
    "    val_class_dir.mkdir(exist_ok=True)\n",
    "    test_class_dir.mkdir(exist_ok=True)\n",
    "\n",
    "    # Get the list of image files within the class directory\n",
    "    image_files = list(class_dir.glob(\"*.jpg\")) + list(class_dir.glob(\"*.png\"))  # Add more extensions if needed\n",
    "\n",
    "    # Shuffle the image files randomly\n",
    "    random.shuffle(image_files)\n",
    "\n",
    "    # Calculate the sizes of train, val, and test datasets\n",
    "    total_images = len(image_files)\n",
    "    train_size = int(total_images * 0.7)\n",
    "    val_size = int(total_images * 0.1)\n",
    "    test_size = total_images - train_size - val_size\n",
    "\n",
    "    # Split the image files into train, val, and test datasets\n",
    "    train_files = image_files[:train_size]\n",
    "    val_files = image_files[train_size:train_size + val_size]\n",
    "    test_files = image_files[train_size + val_size:]\n",
    "\n",
    "    # Move the files to their respective directories\n",
    "    for file in train_files:\n",
    "        shutil.copy2(file, train_class_dir)\n",
    "    for file in val_files:\n",
    "        shutil.copy2(file, val_class_dir)\n",
    "    for file in test_files:\n",
    "        shutil.copy2(file, test_class_dir)\n"
   ]
  },
  {
   "cell_type": "code",
   "execution_count": null,
   "metadata": {},
   "outputs": [],
   "source": []
  }
 ],
 "metadata": {
  "kernelspec": {
   "display_name": ".venv",
   "language": "python",
   "name": "python3"
  },
  "language_info": {
   "codemirror_mode": {
    "name": "ipython",
    "version": 3
   },
   "file_extension": ".py",
   "mimetype": "text/x-python",
   "name": "python",
   "nbconvert_exporter": "python",
   "pygments_lexer": "ipython3",
   "version": "3.10.4"
  },
  "orig_nbformat": 4
 },
 "nbformat": 4,
 "nbformat_minor": 2
}
